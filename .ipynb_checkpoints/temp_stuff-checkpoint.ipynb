{
 "cells": [
  {
   "cell_type": "code",
   "execution_count": 1,
   "metadata": {
    "collapsed": true
   },
   "outputs": [],
   "source": [
    "\n",
    "import numpy as np\n",
    "from astropy.io import fits\n",
    "from import_catalogs import get_cat\n",
    "cat_small_ids, cat_z1_ids, cat_z3_ids = get_cat()"
   ]
  },
  {
   "cell_type": "code",
   "execution_count": 2,
   "metadata": {},
   "outputs": [
    {
     "data": {
      "text/plain": [
       "array([   448.,   1841.,   2126.,   2427.,   3018.,   5011.,   5087.,\n",
       "         6130.,   6400.,   7884.,  10577.,  15668.,  18882.,  19202.,\n",
       "        21661.,  22706.,  22958.,  23481.,  23719.,  23750.,  24571.,\n",
       "        25834.,  26599.])"
      ]
     },
     "execution_count": 2,
     "metadata": {},
     "output_type": "execute_result"
    }
   ],
   "source": [
    "cat_small_ids"
   ]
  },
  {
   "cell_type": "code",
   "execution_count": 21,
   "metadata": {},
   "outputs": [
    {
     "data": {
      "text/plain": [
       "XTENSION= 'BINTABLE'           / binary table extension                         \n",
       "BITPIX  =                    8 / 8-bit bytes                                    \n",
       "NAXIS   =                    2 / 2-dimensional table                            \n",
       "NAXIS1  =                   64 / width of table in bytes                        \n",
       "NAXIS2  =                  161 / number of rows in table                        \n",
       "PCOUNT  =                    0 / size of special data area                      \n",
       "GCOUNT  =                    1 / one data group                                 \n",
       "TFIELDS =                    8 / number of columns                              \n",
       "EXTNAME = '/home/kmalek/Denis_CANDELS/CANDELS/results_withoutAGN.fits#1' / table\n",
       "TTYPE1  = 'id      '           / label for column 1                             \n",
       "TFORM1  = 'K       '           / format for column 1                            \n",
       "TTYPE2  = 'bayes.stellar.m_star' / label for column 2                           \n",
       "TFORM2  = 'D       '           / format for column 2                            \n",
       "TTYPE3  = 'bayes.stellar.m_star_err' / label for column 3                       \n",
       "TFORM3  = 'D       '           / format for column 3                            \n",
       "TTYPE4  = 'bayes.sfh.sfr10Myrs' / label for column 4                            \n",
       "TFORM4  = 'D       '           / format for column 4                            \n",
       "TTYPE5  = 'bayes.sfh.sfr10Myrs_err' / label for column 5                        \n",
       "TFORM5  = 'D       '           / format for column 5                            \n",
       "TTYPE6  = 'bayes.attenuation.bessell_b' / label for column 6                    \n",
       "TFORM6  = 'D       '           / format for column 6                            \n",
       "TTYPE7  = 'bayes.attenuation.bessell_b_err' / label for column 7                \n",
       "TFORM7  = 'D       '           / format for column 7                            \n",
       "TTYPE8  = 'best.reduced_chi_square' / label for column 8                        \n",
       "TFORM8  = 'D       '           / format for column 8                            \n",
       "DATE-HDU= '2019-02-21T16:51:36' / Date of HDU creation (UTC)                    \n",
       "STILVERS= '3.1     '           / Version of STIL software                       \n",
       "STILCLAS= 'uk.ac.starlink.votable.FitsPlusTableWriter' / Author class in STIL so"
      ]
     },
     "execution_count": 21,
     "metadata": {},
     "output_type": "execute_result"
    }
   ],
   "source": [
    "c_z3_wagn = fits.open('code_outputs/cigale_results_withAGN_z3.fits') #161R x 8C\n",
    "\n",
    "c_z3_noagn = fits.open('code_outputs/cigale_results_withoutAGN_z3.fits') #161R x 8C\n",
    "\n",
    "# id, mstar, mstar_err, sfr10, sfr10_err, A_b, A_b_err, chi2\n",
    "\n",
    "c_z3_noagn[1].header"
   ]
  },
  {
   "cell_type": "code",
   "execution_count": 22,
   "metadata": {},
   "outputs": [
    {
     "data": {
      "text/plain": [
       "XTENSION= 'BINTABLE'           / binary table extension                         \n",
       "BITPIX  =                    8 / 8-bit bytes                                    \n",
       "NAXIS   =                    2 / 2-dimensional table                            \n",
       "NAXIS1  =                   80 / width of table in bytes                        \n",
       "NAXIS2  =                  371 / number of rows in table                        \n",
       "PCOUNT  =                    0 / size of special data area                      \n",
       "GCOUNT  =                    1 / one data group                                 \n",
       "TFIELDS =                   10 / number of columns                              \n",
       "EXTNAME = '/data/kmalek/DENIS_candels/201809280923_out/results.fits#1' / table n\n",
       "TTYPE1  = 'id      '           / label for column 1                             \n",
       "TFORM1  = 'K       '           / format for column 1                            \n",
       "TTYPE2  = 'logMstar'           / label for column 2                             \n",
       "TFORM2  = 'D       '           / format for column 2                            \n",
       "TCOMM2  = 'Expression: log10($2)'                                               \n",
       "TTYPE3  = 'logMstar_err'       / label for column 3                             \n",
       "TFORM3  = 'D       '           / format for column 3                            \n",
       "TCOMM3  = 'Expression: $3/$2'                                                   \n",
       "TTYPE4  = 'logSFR  '           / label for column 4                             \n",
       "TFORM4  = 'D       '           / format for column 4                            \n",
       "TCOMM4  = 'Expression: log10($4)'                                               \n",
       "TTYPE5  = 'logSFR_err'         / label for column 5                             \n",
       "TFORM5  = 'D       '           / format for column 5                            \n",
       "TCOMM5  = 'Expression: $5/$4'                                                   \n",
       "TTYPE6  = 'bayes.attenuation.bessell_b' / label for column 6                    \n",
       "TFORM6  = 'D       '           / format for column 6                            \n",
       "TTYPE7  = 'bayes.attenuation.bessell_b_err' / label for column 7                \n",
       "TFORM7  = 'D       '           / format for column 7                            \n",
       "TTYPE8  = 'bayes.agn.fracAGN'  / label for column 8                             \n",
       "TFORM8  = 'D       '           / format for column 8                            \n",
       "TTYPE9  = 'bayes.agn.fracAGN_err' / label for column 9                          \n",
       "TFORM9  = 'D       '           / format for column 9                            \n",
       "TTYPE10 = 'best.reduced_chi_square' / label for column 10                       \n",
       "TFORM10 = 'D       '           / format for column 10                           \n",
       "DATE-HDU= '2018-09-28T08:18:10' / Date of HDU creation (UTC)                    \n",
       "STILVERS= '3.3-1   '           / Version of STIL software                       \n",
       "STILCLAS= 'uk.ac.starlink.votable.FitsPlusTableWriter' / STIL Author class      "
      ]
     },
     "execution_count": 22,
     "metadata": {},
     "output_type": "execute_result"
    }
   ],
   "source": [
    "c3 = fits.open('code_outputs_IR/cigale_withIR_withAGN_results.fits')\n",
    "c3[1].header"
   ]
  },
  {
   "cell_type": "code",
   "execution_count": 17,
   "metadata": {},
   "outputs": [
    {
     "data": {
      "image/png": "[encoded data removed]",
      "text/plain": [
       "<Figure size 432x288 with 1 Axes>"
      ]
     },
     "metadata": {},
     "output_type": "display_data"
    }
   ],
   "source": [
    "cigale_ids = c_z3_noagn[1].data['id']\n",
    "cigale_z3_noagn_mass = c_z3_noagn[1].data['bayes.stellar.m_star']\n",
    "cigale_z3_noagn_sfr = c_z3_noagn[1].data['bayes.sfh.sfr10Myrs']\n",
    "cigale_z3_noagn_Av = c_z3_noagn[1].data['bayes.attenuation.bessell_b']\n",
    "\n",
    "import matplotlib.pyplot as plt\n",
    "plt.plot(cigale_ids, cat_z3_ids,'.')\n",
    "plt.show()"
   ]
  },
  {
   "cell_type": "code",
   "execution_count": 23,
   "metadata": {
    "collapsed": true
   },
   "outputs": [],
   "source": [
    "c_z3_wagn = fits.open('code_outputs/cigale_results_withAGN_z3.fits') #161R x 8C\n",
    "\n",
    "cigale_z3_wagn_ids = c_z3_wagn[1].data['id']\n",
    "cigale_z3_wagn_mass = c_z3_wagn[1].data['bayes.stellar.m_star']\n",
    "cigale_z3_wagn_sfr = c_z3_wagn[1].data['bayes.sfh.sfr10Myrs']\n",
    "cigale_z3_wagn_Av = c_z3_wagn[1].data['bayes.attenuation.bessell_b']\n",
    "\n",
    "c_z3_wagn.close()\n",
    "\n",
    "c_z3_noagn = fits.open('code_outputs/cigale_results_withoutAGN_z3.fits') #161R x 8C\n",
    "\n",
    "cigale_z3_noagn_ids = c_z3_noagn[1].data['id']\n",
    "cigale_z3_noagn_mass = c_z3_noagn[1].data['bayes.stellar.m_star']\n",
    "cigale_z3_noagn_sfr = c_z3_noagn[1].data['bayes.sfh.sfr10Myrs']\n",
    "cigale_z3_noagn_Av = c_z3_noagn[1].data['bayes.attenuation.bessell_b']\n",
    "\n",
    "c_z3_noagn.close()\n"
   ]
  },
  {
   "cell_type": "code",
   "execution_count": 26,
   "metadata": {},
   "outputs": [
    {
     "data": {
      "image/png": "[encoded data removed]",
      "text/plain": [
       "<Figure size 432x288 with 1 Axes>"
      ]
     },
     "metadata": {},
     "output_type": "display_data"
    }
   ],
   "source": [
    "plt.hist(np.log10(cigale_z3_wagn_mass/100))\n",
    "plt.show()"
   ]
  },
  {
   "cell_type": "code",
   "execution_count": 28,
   "metadata": {},
   "outputs": [
    {
     "data": {
      "image/png": "[encoded data removed]",
      "text/plain": [
       "<Figure size 432x288 with 1 Axes>"
      ]
     },
     "metadata": {},
     "output_type": "display_data"
    }
   ],
   "source": [
    "plt.plot(np.log10(cigale_z3_wagn_mass)-3, np.log10(cigale_z3_wagn_sfr)-3,'.')\n",
    "plt.show()"
   ]
  },
  {
   "cell_type": "code",
   "execution_count": null,
   "metadata": {
    "collapsed": true
   },
   "outputs": [],
   "source": []
  }
 ],
 "metadata": {
  "kernelspec": {
   "display_name": "Python 3",
   "language": "python",
   "name": "python3"
  },
  "language_info": {
   "codemirror_mode": {
    "name": "ipython",
    "version": 3
   },
   "file_extension": ".py",
   "mimetype": "text/x-python",
   "name": "python",
   "nbconvert_exporter": "python",
   "pygments_lexer": "ipython3",
   "version": "3.6.3"
  }
 },
 "nbformat": 4,
 "nbformat_minor": 2
}
